{
 "cells": [
  {
   "cell_type": "code",
   "execution_count": 14,
   "metadata": {},
   "outputs": [],
   "source": [
    "import sqlite3\n",
    "import pandas as pd"
   ]
  },
  {
   "cell_type": "code",
   "execution_count": 2,
   "metadata": {},
   "outputs": [],
   "source": [
    "sqlconn = sqlite3.connect('Instructor.db')"
   ]
  },
  {
   "cell_type": "code",
   "execution_count": 3,
   "metadata": {},
   "outputs": [],
   "source": [
    "sqlcursor = sqlconn.cursor()"
   ]
  },
  {
   "cell_type": "code",
   "execution_count": 5,
   "metadata": {},
   "outputs": [
    {
     "data": {
      "text/plain": [
       "<sqlite3.Cursor at 0x1e037643c40>"
      ]
     },
     "execution_count": 5,
     "metadata": {},
     "output_type": "execute_result"
    }
   ],
   "source": [
    "sqlcursor.execute(\"\"\"\n",
    "                  DROP TABLE IF EXISTS instructor;\n",
    "                  \"\"\")"
   ]
  },
  {
   "cell_type": "code",
   "execution_count": 6,
   "metadata": {},
   "outputs": [
    {
     "data": {
      "text/plain": [
       "<sqlite3.Cursor at 0x1e037643c40>"
      ]
     },
     "execution_count": 6,
     "metadata": {},
     "output_type": "execute_result"
    }
   ],
   "source": [
    "sqlcursor.execute(\"\"\"\n",
    "                  CREATE TABLE IF NOT EXISTS instructor (\n",
    "                    id INTEGER PRIMARY KEY NOT NULL\n",
    "                  , first_name VARCHAR(20)\n",
    "                  , last_name VARCHAR(20)\n",
    "                  , city VARCHAR(20)\n",
    "                  , ccode CHAR(2)\n",
    "                  )\n",
    "                  ;\n",
    "                  \"\"\")"
   ]
  },
  {
   "cell_type": "code",
   "execution_count": null,
   "metadata": {},
   "outputs": [
    {
     "data": {
      "text/plain": [
       "<sqlite3.Cursor at 0x1e037643c40>"
      ]
     },
     "execution_count": 7,
     "metadata": {},
     "output_type": "execute_result"
    }
   ],
   "source": [
    "sqlcursor.execute(\"\"\"\n",
    "                  INSERT INTO instructor\n",
    "                  VALUES \n",
    "                    (1, 'Rav', 'Ahuja', 'TORONTO', 'CA')\n",
    "                  , (2, 'Raul', 'Chong', 'Markham', 'CA')\n",
    "                  , (3, 'Hima', 'Vasudevan', 'Chicago', 'US')\n",
    "                  ;\n",
    "                  \"\"\")"
   ]
  },
  {
   "cell_type": "code",
   "execution_count": 8,
   "metadata": {},
   "outputs": [],
   "source": [
    "query1 =    \"\"\"\n",
    "            SELECT *\n",
    "            FROM instructor\n",
    "            ;\n",
    "            \"\"\"\n",
    "\n",
    "query2 =    \"\"\"\n",
    "            SELECT\n",
    "                first_name\n",
    "            FROM\n",
    "                instructor\n",
    "            ;\n",
    "            \"\"\""
   ]
  },
  {
   "cell_type": "code",
   "execution_count": 9,
   "metadata": {},
   "outputs": [
    {
     "name": "stdout",
     "output_type": "stream",
     "text": [
      "ALL the data\n",
      "(1, 'Rav', 'Ahuja', 'TORONTO', 'CA')\n",
      "(2, 'Raul', 'Chong', 'Markham', 'CA')\n",
      "(3, 'Hima', 'Vasudevan', 'Chicago', 'US')\n"
     ]
    }
   ],
   "source": [
    "sqlcursor.execute(query1)\n",
    "output_all = sqlcursor.fetchall()\n",
    "\n",
    "print(\"ALL the data\")\n",
    "\n",
    "for row_all in output_all:\n",
    "    print(row_all)"
   ]
  },
  {
   "cell_type": "code",
   "execution_count": 10,
   "metadata": {},
   "outputs": [
    {
     "name": "stdout",
     "output_type": "stream",
     "text": [
      "MANY data\n",
      "(1, 'Rav', 'Ahuja', 'TORONTO', 'CA')\n",
      "(2, 'Raul', 'Chong', 'Markham', 'CA')\n"
     ]
    }
   ],
   "source": [
    "sqlcursor.execute(query1)\n",
    "output_many = sqlcursor.fetchmany(2)\n",
    "\n",
    "print(\"MANY data\")\n",
    "\n",
    "for row_many in output_many:\n",
    "    print(row_many)"
   ]
  },
  {
   "cell_type": "code",
   "execution_count": 11,
   "metadata": {},
   "outputs": [
    {
     "name": "stdout",
     "output_type": "stream",
     "text": [
      "('Rav',)\n",
      "('Raul',)\n",
      "('Hima',)\n"
     ]
    }
   ],
   "source": [
    "sqlcursor.execute(query2)\n",
    "result = sqlcursor.fetchall()\n",
    "for record in result:\n",
    "    print(record)"
   ]
  },
  {
   "cell_type": "code",
   "execution_count": 12,
   "metadata": {},
   "outputs": [
    {
     "data": {
      "text/plain": [
       "<sqlite3.Cursor at 0x1e037643c40>"
      ]
     },
     "execution_count": 12,
     "metadata": {},
     "output_type": "execute_result"
    }
   ],
   "source": [
    "sqlcursor.execute(\"\"\"\n",
    "                  UPDATE instructor\n",
    "                  SET \n",
    "                    city = \"MOOSETOWN\"\n",
    "                  WHERE\n",
    "                    first_name = \"Rav\"\n",
    "                  ;          \n",
    "\"\"\")"
   ]
  },
  {
   "cell_type": "code",
   "execution_count": 13,
   "metadata": {},
   "outputs": [
    {
     "name": "stdout",
     "output_type": "stream",
     "text": [
      "MANY data\n",
      "(1, 'Rav', 'Ahuja', 'MOOSETOWN', 'CA')\n",
      "(2, 'Raul', 'Chong', 'Markham', 'CA')\n"
     ]
    }
   ],
   "source": [
    "sqlcursor.execute(query1)\n",
    "output_many = sqlcursor.fetchmany(2)\n",
    "\n",
    "print(\"MANY data\")\n",
    "\n",
    "for row_many in output_many:\n",
    "    print(row_many)"
   ]
  },
  {
   "cell_type": "code",
   "execution_count": 15,
   "metadata": {},
   "outputs": [
    {
     "name": "stdout",
     "output_type": "stream",
     "text": [
      "   id first_name  last_name       city ccode\n",
      "0   1        Rav      Ahuja  MOOSETOWN    CA\n",
      "1   2       Raul      Chong    Markham    CA\n",
      "2   3       Hima  Vasudevan    Chicago    US\n"
     ]
    }
   ],
   "source": [
    "df = pd.read_sql_query(query1,sqlconn)\n",
    "print(df)"
   ]
  },
  {
   "cell_type": "code",
   "execution_count": 16,
   "metadata": {},
   "outputs": [],
   "source": [
    "sqlcursor.close()\n",
    "sqlconn.close()"
   ]
  },
  {
   "cell_type": "code",
   "execution_count": null,
   "metadata": {},
   "outputs": [],
   "source": []
  }
 ],
 "metadata": {
  "kernelspec": {
   "display_name": "base",
   "language": "python",
   "name": "python3"
  },
  "language_info": {
   "codemirror_mode": {
    "name": "ipython",
    "version": 3
   },
   "file_extension": ".py",
   "mimetype": "text/x-python",
   "name": "python",
   "nbconvert_exporter": "python",
   "pygments_lexer": "ipython3",
   "version": "3.12.4"
  }
 },
 "nbformat": 4,
 "nbformat_minor": 2
}
